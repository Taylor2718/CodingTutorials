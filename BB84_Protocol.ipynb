{
  "nbformat": 4,
  "nbformat_minor": 0,
  "metadata": {
    "colab": {
      "provenance": [],
      "authorship_tag": "ABX9TyO7iD+f4l9ZqyJfBCDUPm61",
      "include_colab_link": true
    },
    "kernelspec": {
      "name": "python3",
      "display_name": "Python 3"
    },
    "language_info": {
      "name": "python"
    }
  },
  "cells": [
    {
      "cell_type": "markdown",
      "metadata": {
        "id": "view-in-github",
        "colab_type": "text"
      },
      "source": [
        "<a href=\"https://colab.research.google.com/github/Taylor2718/CodingTutorials/blob/BB84-Protocol/BB84_Protocol.ipynb\" target=\"_parent\"><img src=\"https://colab.research.google.com/assets/colab-badge.svg\" alt=\"Open In Colab\"/></a>"
      ]
    },
    {
      "cell_type": "code",
      "execution_count": null,
      "metadata": {
        "id": "1WIuG5QFUBJT"
      },
      "outputs": [],
      "source": [
        "import random as ran\n",
        "\n",
        "#All the functions needed in the demonstration.\n",
        "\n",
        "def Polarization(Base_string, Bit_string, Base_string_2):\n",
        "  if len(Base_string) == len(Bit_string) == len(Base_string_2):\n",
        "    a = ''\n",
        "    for i in range(0, len(Base_string)):\n",
        "      if Base_string_2[i] == Base_string[i]:\n",
        "        a += Bit_string[i] \n",
        "      else:\n",
        "        a += str(ran.randint(0,1))\n",
        "    return a \n",
        "  else:\n",
        "    raise Exception('Number of bases does not match the number of bits')\n",
        "\n",
        "def Confirm(Base_string, Base_string_2 ):\n",
        "  Output = []\n",
        "  if len(Base_string) == len(Base_string_2):\n",
        "    for i in range(0, len(Base_string_2)):\n",
        "      if Base_string[i] == Base_string_2[i]:\n",
        "        Output.append(True)\n",
        "      else:\n",
        "        Output.append(False)\n",
        "    return Output\n",
        "  else:\n",
        "    raise Exception('Number of bases used by the reciever does not match the number of bases used by the sender')\n",
        "\n",
        "\n",
        "def Get_Key(Bit_string, List, Bit_string_2):\n",
        "  output = ''\n",
        "  output_2 = ''\n",
        "  if len(Bit_string) == len(Bit_string_2):\n",
        "    for i in range(0, len(List)):\n",
        "      if List[i]:\n",
        "        output += Bit_string[i]\n",
        "        output_2 += Bit_string_2[i]\n",
        "    return output, output_2\n",
        "\n",
        "def Sharing_of_bits(Shifted_key, Shifted_key_2):\n",
        "  if len(Shifted_key) == len(Shifted_key_2):\n",
        "    a = 0 \n",
        "    b = []\n",
        "    for i in range(0, len(Shifted_key)):\n",
        "      if Shifted_key[i] == Shifted_key_2[i]:\n",
        "        a += 0 \n",
        "      else:\n",
        "        a += 1\n",
        "        b.append(i+1)\n",
        "    if a == 0:\n",
        "      print('No Evesdropper is detected')\n",
        "    elif a == 1:\n",
        "      print('Evesdropper is detected!!! Bit number %d is different' %b[0])\n",
        "    else:\n",
        "      for c in range(0, len(b)):\n",
        "        print('Evesdropper is detected!!! Bit number %d are different' %b[c])\n",
        "\n",
        "\n",
        "\n"
      ]
    },
    {
      "cell_type": "markdown",
      "source": [
        "#**Background**:\n",
        "\n",
        "The BB84 protocol is a way of secretly distrbuting keys which can be used to encode messages. It relies on the properties of quantum physics. Mainly the Heisenberg Uncertainty principle and the No cloning principle.\n",
        "\n",
        "### **Heisenberg Uncertainty Principle**:\n",
        "This principle states that in a quantum system, only one property of a pair of conjugate properties like position and momentum can be known with certainty. This is used as the polarisation of photons on different bases forms a conjugate pair. \n",
        "\n",
        "### **No cloning theorem**: \n",
        "It is impossible to create an identical copy of an unknown quantum state. This is what allows the precense of the evesdropper to be detected. "
      ],
      "metadata": {
        "id": "DebWXtEwblwp"
      }
    },
    {
      "cell_type": "markdown",
      "source": [
        "### How It works:\n",
        "\n",
        "1. The first step is for the sender to generate a string of bits and a string of bases both of length *n*. This corresponds to the sender generating *n* photons and polarizing them in accordance to the chosen bases. "
      ],
      "metadata": {
        "id": "RfkLV0MxUCwU"
      }
    },
    {
      "cell_type": "code",
      "source": [
        "\n",
        "Bit_string = '0110101' \n",
        "Sender_Bases = 'RDDRDRR' \n",
        "\n",
        "\n"
      ],
      "metadata": {
        "id": "2xdH3hvhVDJ0"
      },
      "execution_count": null,
      "outputs": []
    },
    {
      "cell_type": "markdown",
      "source": [
        "2. The next step is to transmit the polarised photon through a quantum channel (this could an optical fibre for example) to the receiver.\n",
        "\n",
        "3. Once the receiver has got the photons, they will polarise them using their own chosen order of bases. This will give the receiver a corresponding bit string.\n"
      ],
      "metadata": {
        "id": "tfzByxiIltTT"
      }
    },
    {
      "cell_type": "code",
      "source": [
        "Receiver_Bases = 'RDDDRDR'\n",
        "Output_string = Polarization(Sender_Bases, Bit_string, Receiver_Bases)\n",
        "print('The Bit string the Receiver obtains is ' + Output_string)"
      ],
      "metadata": {
        "colab": {
          "base_uri": "https://localhost:8080/"
        },
        "id": "exzPta3tacao",
        "outputId": "6ebe6943-c76b-4b54-c3d8-bc27a7b2bb1f"
      },
      "execution_count": null,
      "outputs": [
        {
          "output_type": "stream",
          "name": "stdout",
          "text": [
            "The Bit string the Receiver obtains is 0111011\n"
          ]
        }
      ]
    },
    {
      "cell_type": "markdown",
      "source": [
        "4. The receiver then will share there sequence of bases that they used, via a public channel. The sender will then confirm which of the bases are the same that they used. "
      ],
      "metadata": {
        "id": "MhzYyWklpMzL"
      }
    },
    {
      "cell_type": "code",
      "source": [
        "List_of_correctness = Confirm(Sender_Bases, Receiver_Bases) # True is returned if the Bases match and False is returned if the bases are not\n",
        "print(List_of_correctness)"
      ],
      "metadata": {
        "colab": {
          "base_uri": "https://localhost:8080/"
        },
        "id": "6uo9KtZAoT8A",
        "outputId": "a0da5753-e902-4a74-a5b0-c4fb51d7d29e"
      },
      "execution_count": null,
      "outputs": [
        {
          "output_type": "stream",
          "name": "stdout",
          "text": [
            "[True, True, True, False, False, False, True]\n"
          ]
        }
      ]
    },
    {
      "cell_type": "markdown",
      "source": [
        "5. The new string is created using only the matching bases. This is called the shifted key and is becomes the key used to encode messages. "
      ],
      "metadata": {
        "id": "0xckod3OxAbi"
      }
    },
    {
      "cell_type": "code",
      "source": [
        "Shifted_Key, Shifted_Key_2 = Get_Key(Output_string, List_of_correctness, Bit_string )\n",
        "print('The Shifted Key the Receiver obtains is ' + Shifted_Key)\n",
        "print('The Shifted Key the Sender obtains is ' + Shifted_Key_2)"
      ],
      "metadata": {
        "colab": {
          "base_uri": "https://localhost:8080/"
        },
        "id": "okkOeHWct0RH",
        "outputId": "02abfe5c-9515-4cfe-97a1-44246239ad9b"
      },
      "execution_count": null,
      "outputs": [
        {
          "output_type": "stream",
          "name": "stdout",
          "text": [
            "The Shifted Key the Receiver obtains is 0111\n",
            "The Shifted Key the Sender obtains is 0111\n"
          ]
        }
      ]
    },
    {
      "cell_type": "markdown",
      "source": [
        "### Detecting Evesdroppers:\n",
        " Lets analyse what happens when an evesdropper is present in the quantum channel. \n",
        " We will set a new bit string and sequence of bases for the the sender to use. \n",
        " The evesdropper will also need to randomly pick a sequence of bases to polarize the photons. "
      ],
      "metadata": {
        "id": "8a1cDs9BxwmW"
      }
    },
    {
      "cell_type": "code",
      "source": [
        "Bit_string_2 = '0110101' \n",
        "Sender_Bases_2 = 'RDDRDRR'\n",
        "\n",
        "Evesdropper_Bases = 'DRDRRDR'\n",
        "\n"
      ],
      "metadata": {
        "id": "UCW3TVaXwopI"
      },
      "execution_count": null,
      "outputs": []
    },
    {
      "cell_type": "markdown",
      "source": [
        "The Evesdropper will observe the photons, and polarising the photons and altering the bit string. "
      ],
      "metadata": {
        "id": "l65EMpsJ2kSb"
      }
    },
    {
      "cell_type": "code",
      "source": [
        "Altered_Bit_String = Polarization(Sender_Bases_2, Bit_string_2, Evesdropper_Bases)\n",
        "print(Altered_Bit_String)"
      ],
      "metadata": {
        "colab": {
          "base_uri": "https://localhost:8080/"
        },
        "id": "jXSYMmhS37TA",
        "outputId": "0e779439-caa1-449c-9feb-48a5f066e67d"
      },
      "execution_count": null,
      "outputs": [
        {
          "output_type": "stream",
          "name": "stdout",
          "text": [
            "1110101\n"
          ]
        }
      ]
    },
    {
      "cell_type": "markdown",
      "source": [
        "By observing the the photons, the evesdropper changes the photons that the receiver will obtain. "
      ],
      "metadata": {
        "id": "T0bWXLpq459K"
      }
    },
    {
      "cell_type": "code",
      "source": [
        "Receiver_Bases_2 = 'RDDDRDR'\n",
        "Received_Bit_String = Polarization(Sender_Bases_2, Bit_string_2, Evesdropper_Bases)\n",
        "print(Received_Bit_String)\n"
      ],
      "metadata": {
        "colab": {
          "base_uri": "https://localhost:8080/"
        },
        "id": "NpyPrjDx4aK7",
        "outputId": "1950b2e4-1ead-44c6-e5ff-f69c884a480b"
      },
      "execution_count": null,
      "outputs": [
        {
          "output_type": "stream",
          "name": "stdout",
          "text": [
            "0010011\n"
          ]
        }
      ]
    },
    {
      "cell_type": "markdown",
      "source": [
        "As the photons the receiver gets are altered, there is now a chance that the receiver gets a different bit to the sender even though the same bases are used by both. Therefore they could have different Shifted keys. "
      ],
      "metadata": {
        "id": "IyXWz6y66cUa"
      }
    },
    {
      "cell_type": "code",
      "source": [
        "Correct_Bases = Confirm(Sender_Bases_2, Receiver_Bases_2)\n",
        "print(Correct_Bases)"
      ],
      "metadata": {
        "colab": {
          "base_uri": "https://localhost:8080/"
        },
        "id": "2O3zmYy_55dW",
        "outputId": "51f2f85a-726a-4f17-9634-7dc01a44eaad"
      },
      "execution_count": null,
      "outputs": [
        {
          "output_type": "stream",
          "name": "stdout",
          "text": [
            "[True, True, True, False, False, False, True]\n"
          ]
        }
      ]
    },
    {
      "cell_type": "code",
      "source": [
        "New_Shifted_Key, New_Shifted_Key_2 = Get_Key(Received_Bit_String, Correct_Bases, Bit_string_2)\n",
        "print('The Shifted Key the Receiver obtains is ' + New_Shifted_Key)\n",
        "print('The Shifted Key the Sender obtains is ' + New_Shifted_Key_2)"
      ],
      "metadata": {
        "colab": {
          "base_uri": "https://localhost:8080/"
        },
        "id": "kEPNfDWtbZxS",
        "outputId": "cf073fd6-4e76-4c2d-e57b-42bbaade3461"
      },
      "execution_count": null,
      "outputs": [
        {
          "output_type": "stream",
          "name": "stdout",
          "text": [
            "The Shifted Key the Receiver obtains is 0011\n",
            "The Shifted Key the Sender obtains is 0111\n"
          ]
        }
      ]
    },
    {
      "cell_type": "markdown",
      "source": [
        "To confirm whether the bit strings are the same. The Sender and the receiver will share some of the bits in the shifted key, via a public channel. If any of the bits are different they know an evedropper is present. "
      ],
      "metadata": {
        "id": "6vG-VWbFcVnU"
      }
    },
    {
      "cell_type": "code",
      "source": [
        "Sharing_of_bits(New_Shifted_Key, New_Shifted_Key_2) "
      ],
      "metadata": {
        "colab": {
          "base_uri": "https://localhost:8080/"
        },
        "id": "N-9HBKG8cEvd",
        "outputId": "72da2706-a078-4704-d018-a9971b478f30"
      },
      "execution_count": null,
      "outputs": [
        {
          "output_type": "stream",
          "name": "stdout",
          "text": [
            "Evesdropper is detected!!! Bit number 2 is different\n"
          ]
        }
      ]
    },
    {
      "cell_type": "markdown",
      "source": [
        "The Function above checks all of the digits but in practice The shifted keys are much longer and only a fraction of those bits are shared."
      ],
      "metadata": {
        "id": "3sLLFeuGfNYI"
      }
    },
    {
      "cell_type": "markdown",
      "source": [
        "However there is also a probability that the evesdropper goes undetected. This probability is called the Escape Probability.\n",
        "\n",
        "To calculate the Escape Probability, we first find the probability of escape if only 1 bit was shared. \n",
        "\n",
        "Since there are only 2 possible choices of Bases, the probability that the evesdropper chooses the same base as the sender and the receiver is 50%.\n",
        "\n",
        "If the choice of base is the same, the evesdropper goes undetected. However if the choice of base is different there is a 50% probability that the bit will be different. Therefore there is a 25% chance that the bit is correct and a 25% chance that the bit is incorrect. \n",
        "\n",
        "So the probability that the bit is correct is 75% or 0.75.\n",
        "\n",
        "This may seem quite high. however if *n* bits are shared the probability that all *n* bits are correct is 0.75 x 0.75 x 0.75 ... = (0.75)^*n*\n",
        "\n",
        "The makes it extremely less likely the evesdropper escapes undetected. For example if the number of bits shared is 10, the escape probability is approximately 6%. "
      ],
      "metadata": {
        "id": "29MCvCWbhi5u"
      }
    }
  ]
}