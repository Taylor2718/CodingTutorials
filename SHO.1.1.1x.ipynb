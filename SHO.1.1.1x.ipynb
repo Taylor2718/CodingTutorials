{
 "cells": [
  {
   "cell_type": "code",
   "execution_count": 2,
   "metadata": {},
   "outputs": [],
   "source": [
    "# Importing neccesary packages\n",
    "\n",
    "import numpy as np\n",
    "import matplotlib.pyplot as plt\n",
    "   "
   ]
  },
  {
   "cell_type": "code",
   "execution_count": 3,
   "metadata": {},
   "outputs": [],
   "source": [
    "#Defining functions to change position and velocities SHO for a mass on a spring:\n",
    "'''The idea is to define functions to change the variables of velocity and position according to\n",
    "    the equations of motion for an undamped oscillator. This is a first order method, with a lot of\n",
    "    space for optimisation\n",
    "    '''\n",
    "\n",
    "def initial_conditions(x,v):\n",
    "    \"\"\"This function sets the initial conditions for the differential equation\n",
    "    Args:\n",
    "        x (_float64_): _This is the x-coordinate where we release the mass from_\n",
    "        v (_float 64_): _This is the initial velocity, should set to zero?_\n",
    "\n",
    "    Returns:\n",
    "        _list_: _Returns a list containing the initial position and velocity_\n",
    "    \"\"\"\n",
    "    initial_position = x\n",
    "    initial_velocity = v\n",
    "    return np.array([initial_position, initial_velocity])\n",
    "\n",
    "def velocity_changes(position, delta, m, k):\n",
    "    \"\"\"_This function determines the change in velocity for a given time interval delta, using\n",
    "      Newtons second law of motion_\n",
    "\n",
    "    Args:\n",
    "        position (_float64_): _The position the mass is before the velocity change has been made_\n",
    "        delta (_float64_): _The time interval between succesive iterations, the smaller the better_\n",
    "        m (_float64_): _The mass of the mass_\n",
    "        k (_float64_): _The spring constant_\n",
    "\n",
    "    Returns:\n",
    "        _float64_: _Returns the change in velocity_\n",
    "    \"\"\"\n",
    "    del_v = -k*position*delta/m\n",
    "    return del_v\n",
    "\n",
    "def position_changes(delta, del_v):\n",
    "    \"\"\"_This function computes the change in the position, given the time interval between \n",
    "        iterations and changes in velocity_\n",
    "\n",
    "    Args:\n",
    "        delta (_float64): _The time interval between succesive iterations, the smaller the better_\n",
    "        del_v (_float64_): _The change in velocity during one iteration_\n",
    "\n",
    "    Returns:\n",
    "        _floatr 64_: _The change in position between iterations_\n",
    "    \"\"\"\n",
    "    del_x = delta*del_v\n",
    "    return del_x\n",
    " "
   ]
  },
  {
   "cell_type": "code",
   "execution_count": 21,
   "metadata": {},
   "outputs": [],
   "source": [
    "# Creating the loop to iterate through positions and velocities\n",
    "\n",
    "\n",
    "def positions(x0, v0, num_of_iterations, delta, m, k):\n",
    "    \"\"\"_This function is is the loop that creates the list of positions and velocities, given the \n",
    "        the functions that change the variables. Remark: This should work regardless of the method\n",
    "        that is used to find the new variables_\n",
    "\n",
    "    Args:\n",
    "        x0 (_float64_): _Initial condition for position_\n",
    "        v0 (_float64_): _Initial condition for velocity_\n",
    "        num_of_iterations (_float64_): _How many iterations we want to cycle through_\n",
    "        delta (_float64_): _Time interval between succesive iterations\n",
    "        m (_float64_): _Mass of object_\n",
    "        k (_float64_): _Spring constant _\n",
    "\n",
    "    Returns:\n",
    "        _type_: _The function returns the list of velocities, positions and the time passed during\n",
    "                the simulation._\n",
    "    \"\"\"\n",
    "\n",
    "    time = np.array([0])\n",
    "    initial_conds = initial_conditions(x0, v0)\n",
    "    list_of_positions = np.array([initial_conds[0]])\n",
    "    list_of_velocities = np.array([initial_conds[1]])\n",
    "    list_of_positions = np.append(list_of_positions, initial_conds[0] + delta * initial_conds[1])\n",
    "    for i in range(0, num_of_iterations+1):\n",
    "        list_of_velocities = np.append(list_of_velocities, list_of_velocities[i] + velocity_changes(list_of_positions[i+1],\n",
    "                                                                           delta, m, k))\n",
    "        list_of_positions =  np.append(list_of_positions, list_of_positions[i] + list_of_velocities[i+1] * delta)\n",
    "        time = np.append(time,delta*i)\n",
    "    return list_of_velocities, list_of_positions[:-1], time\n"
   ]
  },
  {
   "cell_type": "code",
   "execution_count": 22,
   "metadata": {},
   "outputs": [],
   "source": [
    "# Testing the function\n",
    "trial = positions(5, 0, 60000000, 0.00001, 1, 1)\n",
    "plt.plot(trial[2], trial[1])\n",
    "\"\"\"_The function was found to work as expected given that delta is small enough. Otherwise the \n",
    "    drop is noticable, as the force on the object is underestimated, and this error propagates._\n",
    "    \"\"\"\n"
   ]
  },
  {
   "cell_type": "code",
   "execution_count": null,
   "metadata": {},
   "outputs": [],
   "source": []
  }
 ],
 "metadata": {
  "kernelspec": {
   "display_name": "base",
   "language": "python",
   "name": "python3"
  },
  "language_info": {
   "codemirror_mode": {
    "name": "ipython",
    "version": 3
   },
   "file_extension": ".py",
   "mimetype": "text/x-python",
   "name": "python",
   "nbconvert_exporter": "python",
   "pygments_lexer": "ipython3",
   "version": "3.8.8"
  },
  "orig_nbformat": 4
 },
 "nbformat": 4,
 "nbformat_minor": 2
}
