{
 "cells": [
  {
   "cell_type": "code",
   "execution_count": 2,
   "metadata": {},
   "outputs": [],
   "source": [
    "#Importing neccesary packages\n",
    "import numpy as np\n",
    "import matplotlib.pyplot as plt"
   ]
  },
  {
   "cell_type": "code",
   "execution_count": 6,
   "metadata": {},
   "outputs": [],
   "source": [
    "#Defining an iteration for SHO for a mass on a spring:\n",
    "'''The idea is to define functions to change the variables of velocity and position according to\n",
    "    the equations of motion for an undamped oscillator.\n",
    "    '''\n",
    "\n",
    "def initial_conditions(x,v):\n",
    "    \"\"\"This function sets the initial conditions for the differential equation\n",
    "    Args:\n",
    "        x (_float64_): _This is the x-coordinate where we release the mass from_\n",
    "        v (_float 64_): _This is the initial velocity, should set to zero?_\n",
    "\n",
    "    Returns:\n",
    "        _list_: _Returns a list containing the initial position and velocity_\n",
    "    \"\"\"\n",
    "    initial_poistion = x\n",
    "    initial_velocity = v\n",
    "    return [initial_position, initial_velocity]\n",
    "\n",
    "def velocity_changes(position, delta, m, k):\n",
    "    \"\"\"_This function determines the change in velocity for a given time interval delta, using Newtons second law of motion_\n",
    "\n",
    "    Args:\n",
    "        position (_float64_): _The position the mass is before the velocity change has been made_\n",
    "        delta (_float64_): _The time interval between succesive iterations, the smaller the better_\n",
    "        m (_float64_): _The mass of the mass_\n",
    "        k (_float64_): _The spring constant_\n",
    "\n",
    "    Returns:\n",
    "        _float64_: _Returns the change in velocity_\n",
    "    \"\"\"\n",
    "    del_v = -k*position*delta/m\n",
    "    return del_v\n",
    "\n",
    "def position_changes(delta, del_v):\n",
    "    \"\"\"_This function computes the change in the position, given the time interval between iterations and changes in velocity_\n",
    "\n",
    "    Args:\n",
    "        delta (_float64): _The time interval between succesive iterations, the smaller the better_\n",
    "        del_v (_float64_): _The change in velocity during one iteration_\n",
    "\n",
    "    Returns:\n",
    "        _floatr 64_: _The change in position between iterations_\n",
    "    \"\"\"\n",
    "    del_x = delta*del_v\n",
    "    return del_x\n",
    " "
   ]
  },
  {
   "cell_type": "code",
   "execution_count": null,
   "metadata": {},
   "outputs": [],
   "source": []
  }
 ],
 "metadata": {
  "kernelspec": {
   "display_name": "base",
   "language": "python",
   "name": "python3"
  },
  "language_info": {
   "codemirror_mode": {
    "name": "ipython",
    "version": 3
   },
   "file_extension": ".py",
   "mimetype": "text/x-python",
   "name": "python",
   "nbconvert_exporter": "python",
   "pygments_lexer": "ipython3",
   "version": "3.9.7"
  },
  "orig_nbformat": 4
 },
 "nbformat": 4,
 "nbformat_minor": 2
}
