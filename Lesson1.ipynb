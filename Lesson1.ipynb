{
 "cells": [
  {
   "cell_type": "markdown",
   "metadata": {},
   "source": [
    "### Hello! Welcome to Co:ed!\n",
    "\n",
    "This first lesson will focus on introducing data structures and some operations.\n",
    "\n",
    "**Let's first discuss what a data type is and why they're important.**\n",
    "\n",
    "> Differentiating between data types is fundamental to the nature of coding. By specifying the data type in one way or the  other ensures that the computer interprets the code in the way we want it to. \n",
    "    \n",
    "Let's first list some datatypes which we will discuss in the next section:\n",
    "\n",
    "    1> string\n",
    "    2> int-----> integer\n",
    "    3> float-----> floating point    \n",
    "    4> boolean\n",
    "    5> list\n",
    "    6> dict-----> dictionary\n",
    "    \n",
    "Now, let's demonstrate what each of these data types are and used for.\n",
    "\n",
    "\n",
    "\n",
    "\n",
    "\n",
    "   \n",
    "    \n",
    "    \n",
    " \n",
    "    "
   ]
  },
  {
   "cell_type": "markdown",
   "metadata": {},
   "source": [
    "## Strings and variable assignment:\n",
    "\n",
    "A string is an object that represents letters and characters and is denoted by putting quotation marks '' around the characters we want to include. \n",
    "\n",
    "Let's look at an example:\n",
    "\n",
    "**Task 1:**\n",
    "Think of your favourite colour and create a string that is this word to which we assign a variable called colour.\n",
    "\n",
    "Assigning a value to a variable can be done by using the equality sign = after the variable name, which is followed by the information we want to assign the vaiable to. So, say we want assign the variable **a** to the value **'Co:ed'** we write\n",
    "a = 'Co:ed'. Variable assignment may not seem important at the moment, but we will later see that it is one of the most important aspects of developing code. \n"
   ]
  },
  {
   "cell_type": "code",
   "execution_count": null,
   "metadata": {},
   "outputs": [],
   "source": [
    "\n"
   ]
  },
  {
   "cell_type": "code",
   "execution_count": null,
   "metadata": {},
   "outputs": [],
   "source": []
  },
  {
   "cell_type": "markdown",
   "metadata": {},
   "source": [
    "We can put anyting we desire into the quotation marks to create a string, however it is important to note that Python will only be able to interpret this data as a colection of characters. We will focus on what this means practically very soon."
   ]
  },
  {
   "cell_type": "markdown",
   "metadata": {},
   "source": [
    "## Integers and algebraic operations\n",
    "\n",
    "Integers represent whole numbers and are reprensented in Python by number characters. As in mathematics these can be used to do algebraic operations such as multiplication, subtraction, multiplication and division. Again, very convinently this can be done by the standard characters for the operations.\n",
    "\n",
    "**Task 2:**\n",
    "Add up any two numbers such that their sum is 27.\n",
    "\n",
    "*Note that to execute the cell you need to press Shift+Enter and the result will be shown. Additionally note that only the last operation will be shown (Try adding multiple pairs of numbers below each other)*"
   ]
  },
  {
   "cell_type": "code",
   "execution_count": null,
   "metadata": {},
   "outputs": [],
   "source": []
  },
  {
   "cell_type": "markdown",
   "metadata": {},
   "source": [
    "You can see that we can do operations on integers, but how can we implement this so it is more useful than a simple calculator? The biggest difference lies in how we can access the information. We can assign variables to the integers themself, but we can also assign a variable to the result of a series of operations, which we can then do operations on later.\n",
    "\n",
    "**Task 3:** Assign the variables *a* and *b* respectively to the integers 4 and 3. Create variables that represent the sum and difference of *a* and *b*. Now create a final variable that is the product of the two created variables."
   ]
  },
  {
   "cell_type": "code",
   "execution_count": null,
   "metadata": {},
   "outputs": [],
   "source": []
  },
  {
   "cell_type": "markdown",
   "metadata": {},
   "source": [
    "## Floats and the type() function\n",
    "\n",
    "Floats are very similiar to integers, as they represent numbers. However they can have values associated after the decimal point. Why do we use integers then? Well, integers need less storage, therefore calculations are quicker. Therefore, if we don't need the precision we should use integers. We denote a float by using a dot, to denote the decimal point. So, for example 23.55 would be a float. Additionally, when we divide integers a float is returned. To check the data type of a value, we can use the built-in function type(). To use this, we just simply need to input the value or name of the variable that we want to check.\n",
    "For example, checking the type of 23.55 is done as: "
   ]
  },
  {
   "cell_type": "code",
   "execution_count": null,
   "metadata": {},
   "outputs": [],
   "source": [
    "type(23.55) #run this line to see output"
   ]
  },
  {
   "cell_type": "markdown",
   "metadata": {},
   "source": [
    "**Task 4:** Find two numbers, which when divided by one another results in 3.55. Assign variables along the way, and then check the type of each variable. *Try to use the type on the variable directly and not the result. So if the variable is called f, do type(f)*"
   ]
  },
  {
   "cell_type": "markdown",
   "metadata": {},
   "source": [
    "## Booleans and relational operators\n",
    "\n",
    "The boolean data type represents the truth value of an expression, i.e True or False. This will be very useful when writing algorithms, as we might want to proceed differently, depending on if a condition is True or False. For example, if we want to check if 8 is bigger or smaller than 5, we can write:"
   ]
  },
  {
   "cell_type": "code",
   "execution_count": 5,
   "metadata": {},
   "outputs": [],
   "source": [
    "8 < 5"
   ]
  },
  {
   "cell_type": "markdown",
   "metadata": {},
   "source": [
    "In this example the < operator is the one responsible for asking about the truth value of the < operation between the two values  that are separated by it. These sort of operation are called relational operators.\n",
    "\n",
    "The 6 relation operators are:\n",
    "\n",
    "    1> Less than: <\n",
    "    2> More than: >\n",
    "    3> Equal to: ==\n",
    "    4> Not equal to: =!\n",
    "    5> Less than or equal to: <=\n",
    "    6> More than or equal to: >=\n",
    "\n",
    "These should always be thought of as you read the relation. So in our example 8 < 5, we are asking is 8 less than 5?\n",
    "\n",
    "An important thing to note with the == and =! operators that they are different to variable assignment.\n",
    "\n",
    "**Task 5:** Assign the variables *myint* and *myfloat* to an integer and a float respectively. Check if they are equal to each other, by assigning the variable *isequal* to the operation. Before calling on the variable, to check the value, check the type of the resulting variable. *Additional task: Try assigning the same number to the variables, one as a float, one as an integer. What value does isequal take? Write an operation that checks if the type of each variable is the same*"
   ]
  },
  {
   "cell_type": "code",
   "execution_count": 12,
   "metadata": {},
   "outputs": [
    {
     "data": {
      "text/plain": [
       "bool"
      ]
     },
     "execution_count": 12,
     "metadata": {},
     "output_type": "execute_result"
    }
   ],
   "source": []
  },
  {
   "cell_type": "markdown",
   "metadata": {},
   "source": [
    "## Lists and the print() function\n",
    "\n",
    "Lists are objects that can store multiple values in a single variable. They are extremely useful, as they can make organising and accessing data from large data sets convenient. \n",
    "We can create a list by using square brackets, and separating the different values using a comma. So if I want to store the values: 'This is a list' and 5.67 in a list called mylist we write:"
   ]
  },
  {
   "cell_type": "code",
   "execution_count": 9,
   "metadata": {},
   "outputs": [],
   "source": [
    "mylist = ['This is a list', 5.67]"
   ]
  },
  {
   "cell_type": "markdown",
   "metadata": {},
   "source": [
    "Before moving on to talking about the properties of lists, let's introduce what the print() function does. As one would expect it is used to print out the value of any variable. The syntax (structure of the statement) follows the same logic as the type function. For example if i want to print mylist:"
   ]
  },
  {
   "cell_type": "code",
   "execution_count": null,
   "metadata": {},
   "outputs": [],
   "source": [
    "print(mylist)"
   ]
  },
  {
   "cell_type": "markdown",
   "metadata": {},
   "source": [
    "Now why is this useful, when we could just tyype in the name of the variable, before executing the cell? Well the reason for this is very simple. When just writing the name of the variable, remember that we could only access the value of one variable. However, with the print statement we can check the value of any number of variables. For example: "
   ]
  },
  {
   "cell_type": "code",
   "execution_count": null,
   "metadata": {},
   "outputs": [],
   "source": [
    "a = 5/10\n",
    "\n",
    "print(mylist,a)\n",
    "print(mylist)\n",
    "print(a)"
   ]
  },
  {
   "attachments": {
    "image.png": {
     "image/png": "[encoded data removed]"
    }
   },
   "cell_type": "markdown",
   "metadata": {},
   "source": [
    "Notice, that if we input the two variables at once they will be printed next to one another, if they are printed seperately they will be under one another.\n",
    "![image.png](attachment:image.png)\n",
    "The print() function will be especially useful when we want to check values of variables after manipulating them.\n",
    "\n",
    "**Task 6:** Create a list called *anotherlist* that contains your favourite animal as a string, any number between 0-10 and the previous number multiplied by the smalles prime number."
   ]
  },
  {
   "cell_type": "code",
   "execution_count": null,
   "metadata": {},
   "outputs": [],
   "source": [
    "\n"
   ]
  },
  {
   "cell_type": "markdown",
   "metadata": {},
   "source": [
    "So far all we have seen is that lists contain arbitrary objects. However, this in itself would be very unuseful. However, the following properies enable lists to be very useful:\n",
    "\n",
    "    1> Lists are ordered\n",
    "    2> List elements can be accessed via an index\n",
    "    3> Lists can be nested arbitrarily\n",
    "    4> Lists are mutable\n",
    "    5> Lists are dynamic\n",
    "\n",
    "Let's ellaborate a bit on that.\n",
    "\n",
    "1> Lists are ordered\n",
    "\n",
    "This means that the list is not specified by just the collection of objects included in it, but by the specific order of the collection of objects. \n",
    "\n",
    "*Example* I have two lists defined as list1 = [0, 2, 4, 6, 8] and list2 = [8, 6, 4, 2, 0]. These lists have the same collection of objects, (even, positive numbers smaller than 10) however, they are not equivalent. \n",
    "\n",
    "**Task 7** Write a piece of code below that defines list1 and list2, and checks if they are equal. \n",
    "\n"
   ]
  },
  {
   "cell_type": "code",
   "execution_count": null,
   "metadata": {},
   "outputs": [],
   "source": []
  },
  {
   "cell_type": "markdown",
   "metadata": {},
   "source": [
    "Now we have established that lists are dependant on the order, let's look into the rules of ordering. There are two ways we can order from, left to right and right to left. However, it can also be thought of as one system. The first element from the left is the zeroth element, and the ordering either increases left to right, or decreases right to left. This means the minus first element is the first to the right. The magnitude of the order is therefore maximum one less then the number of elements in the list.\n",
    "We can select elements from the list by a method called slicing. Let's look at how this works!\n",
    "\n",
    "The syntax is the following. Say if i have a list called mylist, I would write: mylist[start:end:step].\n",
    "The start is the first element I want to include in the selected 'slice'. End is the number of the element after the one I want to include in my new list. Finally, step is the number of elements to skip between each included item."
   ]
  },
  {
   "cell_type": "code",
   "execution_count": 1,
   "metadata": {},
   "outputs": [
    {
     "data": {
      "text/plain": [
       "int"
      ]
     },
     "execution_count": 1,
     "metadata": {},
     "output_type": "execute_result"
    }
   ],
   "source": []
  },
  {
   "cell_type": "code",
   "execution_count": null,
   "metadata": {},
   "outputs": [],
   "source": []
  }
 ],
 "metadata": {
  "kernelspec": {
   "display_name": "Python 3 (ipykernel)",
   "language": "python",
   "name": "python3"
  },
  "language_info": {
   "codemirror_mode": {
    "name": "ipython",
    "version": 3
   },
   "file_extension": ".py",
   "mimetype": "text/x-python",
   "name": "python",
   "nbconvert_exporter": "python",
   "pygments_lexer": "ipython3",
   "version": "3.9.13"
  }
 },
 "nbformat": 4,
 "nbformat_minor": 2
}
